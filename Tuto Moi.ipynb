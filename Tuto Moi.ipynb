{
 "cells": [
  {
   "cell_type": "markdown",
   "id": "7b11d919",
   "metadata": {},
   "source": [
    "## Connexion"
   ]
  },
  {
   "cell_type": "code",
   "execution_count": null,
   "id": "48832916",
   "metadata": {},
   "outputs": [],
   "source": [
    "from dotenv import load_dotenv\n",
    "import os\n",
    "import logger\n",
    "load_dotenv()\n",
    "\n",
    "USERNAME = os.getenv(\"USERNAME\")\n",
    "PASSWORD = os.getenv(\"PASSWORD\")\n",
    "from instagrapi import Client\n",
    "\n",
    "cl = Client()\n",
    "cl.login(USERNAME, PASSWORD)"
   ]
  },
  {
   "cell_type": "markdown",
   "id": "a06d3eb8",
   "metadata": {},
   "source": [
    "### Load Paths"
   ]
  },
  {
   "cell_type": "code",
   "execution_count": 5,
   "id": "fb98d296",
   "metadata": {},
   "outputs": [],
   "source": [
    "path = r\"C:\\Users\\Utilisateur\\Desktop\\ComfyUI\\DataSet\\Paola Flux\\Images\""
   ]
  },
  {
   "cell_type": "markdown",
   "id": "719792b1",
   "metadata": {},
   "source": [
    "### Messages"
   ]
  },
  {
   "cell_type": "markdown",
   "id": "18339e98",
   "metadata": {},
   "source": [
    "Charger toutes les discussions"
   ]
  },
  {
   "cell_type": "code",
   "execution_count": 10,
   "id": "4507e1d8",
   "metadata": {},
   "outputs": [
    {
     "name": "stdout",
     "output_type": "stream",
     "text": [
      "[25/Jun/2025 15:53:29] INFO - https://i.instagram.com/api/v1/direct_v2/inbox/\n",
      "[25/Jun/2025 15:53:29] INFO - loalova.cracova [200] GET https://i.instagram.com/api/v1/direct_v2/inbox/?visual_message_return_type=unseen&thread_message_limit=10&persistentBadging=true&limit=20&is_prefetching=false (269.0.0.18.75, OnePlus 6T Dev)\n"
     ]
    }
   ],
   "source": [
    "list_threads = cl.direct_threads()"
   ]
  },
  {
   "cell_type": "markdown",
   "id": "7a86f257",
   "metadata": {},
   "source": [
    "Pour recupérer tous les messages d'un thread"
   ]
  },
  {
   "cell_type": "code",
   "execution_count": 20,
   "id": "b15c6f12",
   "metadata": {},
   "outputs": [
    {
     "data": {
      "text/plain": [
       "'Hi'"
      ]
     },
     "execution_count": 20,
     "metadata": {},
     "output_type": "execute_result"
    }
   ],
   "source": [
    "list_threads[0].messages[0].text"
   ]
  },
  {
   "cell_type": "code",
   "execution_count": null,
   "id": "b06014fa",
   "metadata": {},
   "outputs": [],
   "source": [
    "list_threads[0].__dict__"
   ]
  },
  {
   "cell_type": "markdown",
   "id": "5fca3ff0",
   "metadata": {},
   "source": [
    "### Pour répondre aux messages"
   ]
  },
  {
   "cell_type": "code",
   "execution_count": 21,
   "id": "f166e700",
   "metadata": {},
   "outputs": [
    {
     "name": "stdout",
     "output_type": "stream",
     "text": [
      "[25/Jun/2025 15:56:26] INFO - https://i.instagram.com/api/v1/direct_v2/threads/broadcast/text/\n",
      "[25/Jun/2025 15:56:26] INFO - loalova.cracova [200] POST https://i.instagram.com/api/v1/direct_v2/threads/broadcast/text/ (269.0.0.18.75, OnePlus 6T Dev)\n"
     ]
    },
    {
     "data": {
      "text/plain": [
       "DirectMessage(id='32297662398518826890381221691392000', user_id='', thread_id=340282366841710301244259929185426402397, timestamp=datetime.datetime(2025, 6, 25, 15, 56, 26), item_type=None, is_sent_by_viewer=None, is_shh_mode=None, reactions=None, text=None, reply=None, link=None, animated_media=None, media=None, visual_media=None, media_share=None, reel_share=None, story_share=None, felix_share=None, xma_share=None, clip=None, placeholder=None, client_context='6800098868446569875')"
      ]
     },
     "execution_count": 21,
     "metadata": {},
     "output_type": "execute_result"
    }
   ],
   "source": [
    "cl.direct_answer(\"340282366841710301244259929185426402397\", \"Hello world\")"
   ]
  },
  {
   "cell_type": "markdown",
   "id": "5ea8a689",
   "metadata": {},
   "source": [
    "## Gestion Média"
   ]
  },
  {
   "cell_type": "code",
   "execution_count": null,
   "id": "894a289d",
   "metadata": {},
   "outputs": [
    {
     "name": "stdout",
     "output_type": "stream",
     "text": [
      "[25/Jun/2025 15:17:43] INFO - loalova.cracova [200] POST https://i.instagram.com/rupload_igphoto/1750857461628_0_6209384794 (269.0.0.18.75, OnePlus 6T Dev)\n",
      "[25/Jun/2025 15:17:47] INFO - https://i.instagram.com/api/v1/media/configure/\n",
      "[25/Jun/2025 15:17:50] INFO - loalova.cracova [200] POST https://i.instagram.com/api/v1/media/configure/ (269.0.0.18.75, OnePlus 6T Dev)\n",
      "[25/Jun/2025 15:17:51] INFO - https://i.instagram.com/api/v1/qe/expose/\n",
      "[25/Jun/2025 15:17:52] INFO - loalova.cracova [200] POST https://i.instagram.com/api/v1/qe/expose/ (269.0.0.18.75, OnePlus 6T Dev)\n"
     ]
    },
    {
     "ename": "AttributeError",
     "evalue": "module 'logger' has no attribute 'info'",
     "output_type": "error",
     "traceback": [
      "\u001b[31m---------------------------------------------------------------------------\u001b[39m",
      "\u001b[31mAttributeError\u001b[39m                            Traceback (most recent call last)",
      "\u001b[36mCell\u001b[39m\u001b[36m \u001b[39m\u001b[32mIn[10]\u001b[39m\u001b[32m, line 6\u001b[39m\n\u001b[32m      4\u001b[39m     cl.photo_upload(path=image_path, caption=caption)\n\u001b[32m      5\u001b[39m     logger.info(\u001b[33mf\u001b[39m\u001b[33m\"\u001b[39m\u001b[33mPosted image: \u001b[39m\u001b[38;5;132;01m{\u001b[39;00mimage_path\u001b[38;5;132;01m}\u001b[39;00m\u001b[33m\"\u001b[39m)\n\u001b[32m----> \u001b[39m\u001b[32m6\u001b[39m \u001b[43mpost_image\u001b[49m\u001b[43m(\u001b[49m\u001b[43mcl\u001b[49m\u001b[43m,\u001b[49m\u001b[43m \u001b[49m\u001b[43mimage_path\u001b[49m\u001b[43m,\u001b[49m\u001b[43m \u001b[49m\u001b[43mcaption\u001b[49m\u001b[43m)\u001b[49m\n",
      "\u001b[36mCell\u001b[39m\u001b[36m \u001b[39m\u001b[32mIn[10]\u001b[39m\u001b[32m, line 5\u001b[39m, in \u001b[36mpost_image\u001b[39m\u001b[34m(cl, image_path, caption)\u001b[39m\n\u001b[32m      3\u001b[39m \u001b[38;5;28;01mdef\u001b[39;00m\u001b[38;5;250m \u001b[39m\u001b[34mpost_image\u001b[39m(cl, image_path, caption):\n\u001b[32m      4\u001b[39m     cl.photo_upload(path=image_path, caption=caption)\n\u001b[32m----> \u001b[39m\u001b[32m5\u001b[39m     \u001b[43mlogger\u001b[49m\u001b[43m.\u001b[49m\u001b[43minfo\u001b[49m(\u001b[33mf\u001b[39m\u001b[33m\"\u001b[39m\u001b[33mPosted image: \u001b[39m\u001b[38;5;132;01m{\u001b[39;00mimage_path\u001b[38;5;132;01m}\u001b[39;00m\u001b[33m\"\u001b[39m)\n",
      "\u001b[31mAttributeError\u001b[39m: module 'logger' has no attribute 'info'"
     ]
    }
   ],
   "source": [
    "image_path = os.path.join(path, \"22.png\")\n",
    "caption = \"On the beach finally ! #beach#sunnyday#Arcachon\"\n",
    "def post_image(cl, image_path, caption):\n",
    "    cl.photo_upload(path=image_path, caption=caption)\n",
    "post_image(cl, image_path, caption)"
   ]
  },
  {
   "cell_type": "code",
   "execution_count": null,
   "id": "ea537b82",
   "metadata": {},
   "outputs": [],
   "source": []
  }
 ],
 "metadata": {
  "kernelspec": {
   "display_name": "Python 3",
   "language": "python",
   "name": "python3"
  },
  "language_info": {
   "codemirror_mode": {
    "name": "ipython",
    "version": 3
   },
   "file_extension": ".py",
   "mimetype": "text/x-python",
   "name": "python",
   "nbconvert_exporter": "python",
   "pygments_lexer": "ipython3",
   "version": "3.12.0"
  }
 },
 "nbformat": 4,
 "nbformat_minor": 5
}
